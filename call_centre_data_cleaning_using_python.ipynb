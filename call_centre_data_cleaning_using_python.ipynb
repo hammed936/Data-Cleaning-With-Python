{
 "cells": [
  {
   "cell_type": "code",
   "execution_count": 3,
   "id": "c92e3f5f-c4b8-4354-93dc-7413f4f4f87f",
   "metadata": {},
   "outputs": [],
   "source": [
    "import pandas as pd\n",
    "import numpy as np"
   ]
  },
  {
   "cell_type": "code",
   "execution_count": 4,
   "id": "dd079acd-6733-4cf4-987c-29fca18d2d90",
   "metadata": {},
   "outputs": [
    {
     "data": {
      "text/html": [
       "<div>\n",
       "<style scoped>\n",
       "    .dataframe tbody tr th:only-of-type {\n",
       "        vertical-align: middle;\n",
       "    }\n",
       "\n",
       "    .dataframe tbody tr th {\n",
       "        vertical-align: top;\n",
       "    }\n",
       "\n",
       "    .dataframe thead th {\n",
       "        text-align: right;\n",
       "    }\n",
       "</style>\n",
       "<table border=\"1\" class=\"dataframe\">\n",
       "  <thead>\n",
       "    <tr style=\"text-align: right;\">\n",
       "      <th></th>\n",
       "      <th>CustomerID</th>\n",
       "      <th>First_Name</th>\n",
       "      <th>Last_Name</th>\n",
       "      <th>Phone_Number</th>\n",
       "      <th>Address</th>\n",
       "      <th>Paying Customer</th>\n",
       "      <th>Do_Not_Contact</th>\n",
       "      <th>Not_Useful_Column</th>\n",
       "    </tr>\n",
       "  </thead>\n",
       "  <tbody>\n",
       "    <tr>\n",
       "      <th>0</th>\n",
       "      <td>1001</td>\n",
       "      <td>Frodo</td>\n",
       "      <td>Baggins</td>\n",
       "      <td>123-545-5421</td>\n",
       "      <td>123 Shire Lane, Shire</td>\n",
       "      <td>Yes</td>\n",
       "      <td>No</td>\n",
       "      <td>True</td>\n",
       "    </tr>\n",
       "    <tr>\n",
       "      <th>1</th>\n",
       "      <td>1002</td>\n",
       "      <td>Abed</td>\n",
       "      <td>Nadir</td>\n",
       "      <td>123/643/9775</td>\n",
       "      <td>93 West Main Street</td>\n",
       "      <td>No</td>\n",
       "      <td>Yes</td>\n",
       "      <td>False</td>\n",
       "    </tr>\n",
       "    <tr>\n",
       "      <th>2</th>\n",
       "      <td>1003</td>\n",
       "      <td>Walter</td>\n",
       "      <td>/White</td>\n",
       "      <td>7066950392</td>\n",
       "      <td>298 Drugs Driveway</td>\n",
       "      <td>N</td>\n",
       "      <td>NaN</td>\n",
       "      <td>True</td>\n",
       "    </tr>\n",
       "    <tr>\n",
       "      <th>3</th>\n",
       "      <td>1004</td>\n",
       "      <td>Dwight</td>\n",
       "      <td>Schrute</td>\n",
       "      <td>123-543-2345</td>\n",
       "      <td>980 Paper Avenue, Pennsylvania, 18503</td>\n",
       "      <td>Yes</td>\n",
       "      <td>Y</td>\n",
       "      <td>True</td>\n",
       "    </tr>\n",
       "    <tr>\n",
       "      <th>4</th>\n",
       "      <td>1005</td>\n",
       "      <td>Jon</td>\n",
       "      <td>Snow</td>\n",
       "      <td>876|678|3469</td>\n",
       "      <td>123 Dragons Road</td>\n",
       "      <td>Y</td>\n",
       "      <td>No</td>\n",
       "      <td>True</td>\n",
       "    </tr>\n",
       "  </tbody>\n",
       "</table>\n",
       "</div>"
      ],
      "text/plain": [
       "   CustomerID First_Name Last_Name  Phone_Number  \\\n",
       "0        1001      Frodo   Baggins  123-545-5421   \n",
       "1        1002       Abed     Nadir  123/643/9775   \n",
       "2        1003     Walter    /White    7066950392   \n",
       "3        1004     Dwight   Schrute  123-543-2345   \n",
       "4        1005        Jon      Snow  876|678|3469   \n",
       "\n",
       "                                 Address Paying Customer Do_Not_Contact  \\\n",
       "0                  123 Shire Lane, Shire             Yes             No   \n",
       "1                    93 West Main Street              No            Yes   \n",
       "2                     298 Drugs Driveway               N            NaN   \n",
       "3  980 Paper Avenue, Pennsylvania, 18503             Yes              Y   \n",
       "4                       123 Dragons Road               Y             No   \n",
       "\n",
       "   Not_Useful_Column  \n",
       "0               True  \n",
       "1              False  \n",
       "2               True  \n",
       "3               True  \n",
       "4               True  "
      ]
     },
     "execution_count": 4,
     "metadata": {},
     "output_type": "execute_result"
    }
   ],
   "source": [
    "df = pd.read_excel(r\"C:\\Users\\USER\\Downloads\\files_in_pandas\\Customer Call List.xlsx\")\n",
    "df.head(5)"
   ]
  },
  {
   "cell_type": "code",
   "execution_count": 5,
   "id": "dfcfee6d-5b00-437e-8106-60e60118c1e9",
   "metadata": {},
   "outputs": [],
   "source": [
    "#removing details of people who said we should not contact then, and those with missing values\n",
    "# updating the "
   ]
  },
  {
   "cell_type": "code",
   "execution_count": 6,
   "id": "9d9b0c92-f3cc-4af8-8dc6-d77a4c2ec680",
   "metadata": {},
   "outputs": [],
   "source": [
    "df['Do_Not_Contact'] = df[\"Do_Not_Contact\"].str.replace('No','N')"
   ]
  },
  {
   "cell_type": "code",
   "execution_count": null,
   "id": "dfa9fa6c-fdb6-4400-a799-5220b454fcf7",
   "metadata": {},
   "outputs": [],
   "source": [
    "df['Do_Not_Contact']=df['Do_Not_Contact'].str.replace(\"Yes\",\"Y\")"
   ]
  },
  {
   "cell_type": "code",
   "execution_count": null,
   "id": "9bd961fb-5c16-4439-8684-c8a0d68334c2",
   "metadata": {},
   "outputs": [],
   "source": [
    "df.drop(columns='Not_Useful_Column', inplace=True)"
   ]
  },
  {
   "cell_type": "code",
   "execution_count": null,
   "id": "e06c89b3-ae78-4399-be06-1392820dd07f",
   "metadata": {},
   "outputs": [],
   "source": [
    "df.dropna(axis=0, inplace=True)"
   ]
  },
  {
   "cell_type": "code",
   "execution_count": null,
   "id": "1cb717b6-715a-402b-8606-fdc399d94c68",
   "metadata": {},
   "outputs": [],
   "source": [
    "df"
   ]
  },
  {
   "cell_type": "code",
   "execution_count": null,
   "id": "787c57b5-31f0-41e0-8515-3fe059352d4b",
   "metadata": {},
   "outputs": [],
   "source": [
    "df['Address']=df['Address'].str.replace('N/a',' ')\n",
    "df['Phone_Number']=df['Phone_Number'].str.replace('N/a',' ')\n",
    "df['Paying Customer']=df['Paying Customer'].str.replace('N/a',' ')"
   ]
  },
  {
   "cell_type": "code",
   "execution_count": null,
   "id": "87e76e0b-b7cb-4512-9aba-f350296b2f73",
   "metadata": {},
   "outputs": [],
   "source": [
    "df"
   ]
  },
  {
   "cell_type": "code",
   "execution_count": null,
   "id": "199cd49d-f258-45d2-a87f-65b4be527fcf",
   "metadata": {},
   "outputs": [],
   "source": [
    "df.dropna(axis=0)"
   ]
  },
  {
   "cell_type": "code",
   "execution_count": null,
   "id": "65d8dd2f-97f5-4d95-aa08-f03e9a31bdee",
   "metadata": {},
   "outputs": [],
   "source": [
    "df.drop_duplicates(inplace=True)"
   ]
  },
  {
   "cell_type": "code",
   "execution_count": null,
   "id": "12ba2b8e-531c-4e91-9ab6-c6749451ef50",
   "metadata": {},
   "outputs": [],
   "source": [
    "df\n"
   ]
  },
  {
   "cell_type": "code",
   "execution_count": null,
   "id": "fd1d435b-b034-454a-aaf6-cdcae03b42e1",
   "metadata": {},
   "outputs": [],
   "source": [
    "df.drop(index=18, inplace=True)"
   ]
  },
  {
   "cell_type": "code",
   "execution_count": null,
   "id": "d960fc71-b28e-40a2-9fcd-e745e22365b8",
   "metadata": {},
   "outputs": [],
   "source": [
    "df"
   ]
  },
  {
   "cell_type": "code",
   "execution_count": null,
   "id": "f5619927-ab1a-47ff-811e-f6a6986e8a00",
   "metadata": {},
   "outputs": [],
   "source": [
    "df['Paying Customer']=df['Paying Customer'].str.replace('No','N')\n",
    "df['Paying Customer']=df['Paying Customer'].str.replace('Yes','Y')"
   ]
  },
  {
   "cell_type": "code",
   "execution_count": null,
   "id": "5e019cbc-cda5-4f80-9e2f-08e2c19bfce0",
   "metadata": {},
   "outputs": [],
   "source": [
    "df['Paying Customer']=df['Paying Customer'].str.replace('N','No')\n",
    "df['Paying Customer']=df['Paying Customer'].str.replace('Y','Yes')"
   ]
  },
  {
   "cell_type": "code",
   "execution_count": null,
   "id": "8f5f4682-b91b-427e-8382-efabf7bc52d1",
   "metadata": {},
   "outputs": [],
   "source": [
    "df['Do_Not_Contact']=df['Do_Not_Contact'].str.replace('N','No')\n",
    "df['Do_Not_Contact']=df['Do_Not_Contact'].str.replace('Y','Yes')"
   ]
  },
  {
   "cell_type": "code",
   "execution_count": null,
   "id": "ba7069ae-c9c9-4e89-bb5f-3522a00ae2ac",
   "metadata": {},
   "outputs": [],
   "source": [
    "df\n"
   ]
  },
  {
   "cell_type": "code",
   "execution_count": null,
   "id": "2b712f64-d72f-465b-a969-027849899ede",
   "metadata": {},
   "outputs": [],
   "source": [
    "df[\"Phone_Number\"].str.replace('-', '')\n",
    "df[\"Phone_Number\"].str.replace('/', '')\n",
    "df[\"Phone_Number\"].str.replace('+', '')\n",
    "df[\"Phone_Number\"].str.replace('|', '')\n",
    "df[\"Phone_Number\"].str.replace('|', '')\n",
    "df[\"Phone_Number\"].str.replace(',', '')"
   ]
  },
  {
   "cell_type": "code",
   "execution_count": null,
   "id": "cec7d45f-f736-4b64-b0c1-41996278ba62",
   "metadata": {},
   "outputs": [],
   "source": [
    "df\n"
   ]
  },
  {
   "cell_type": "code",
   "execution_count": null,
   "id": "a070e43c-2929-4a8d-8c81-323e2eccab50",
   "metadata": {},
   "outputs": [],
   "source": [
    "df['Last_Name']=df['Last_Name'].str.strip(',1-9._/')\n",
    "df.head(5)"
   ]
  },
  {
   "cell_type": "code",
   "execution_count": null,
   "id": "a3dbf8dd-59d7-457a-a83e-82fa52bbd7e5",
   "metadata": {},
   "outputs": [],
   "source": [
    "df['Phone_Number'].str.replace('''[^a-zA-Z0-9]''', '')"
   ]
  },
  {
   "cell_type": "code",
   "execution_count": null,
   "id": "174322c3-d1a8-40ef-bd5a-adea7c68a937",
   "metadata": {},
   "outputs": [],
   "source": [
    "df[['a','b','c']]=df['Address'].str.split(',' , expand=True)"
   ]
  },
  {
   "cell_type": "code",
   "execution_count": null,
   "id": "27171866-d40a-4d97-a95a-5e7ccd2a3119",
   "metadata": {},
   "outputs": [],
   "source": [
    "for x in df.index:\n",
    "    if df.loc[x, 'Do_Not_Contact'] == 'Yes':\n",
    "        df.drop(x, inplace=True)\n",
    "df"
   ]
  },
  {
   "cell_type": "code",
   "execution_count": null,
   "id": "1a33424b-ab7b-4ff5-98ea-c82726a8e181",
   "metadata": {},
   "outputs": [],
   "source": [
    "df.reset_index(drop='index')\n"
   ]
  },
  {
   "cell_type": "code",
   "execution_count": null,
   "id": "23637343-2526-43d2-b4ec-7a2556869d4b",
   "metadata": {},
   "outputs": [],
   "source": [
    "df.fillna('')"
   ]
  },
  {
   "cell_type": "code",
   "execution_count": null,
   "id": "99b7a93f-1ca9-4103-ad02-ac8edb929b84",
   "metadata": {},
   "outputs": [],
   "source": [
    "df['Street_Name']=df['a']\n",
    "df['City_Name']=df['b']\n",
    "df['State']=df['c']"
   ]
  },
  {
   "cell_type": "code",
   "execution_count": null,
   "id": "1a6aaff8-7adf-40e6-a802-58b796c49c8a",
   "metadata": {},
   "outputs": [],
   "source": [
    "df.drop(columns=['a','b','c','Address'], inplace=True)"
   ]
  },
  {
   "cell_type": "code",
   "execution_count": null,
   "id": "ec446440-c43b-4603-9721-172b77d44e98",
   "metadata": {},
   "outputs": [],
   "source": [
    "df.fillna('', inplace=True)"
   ]
  },
  {
   "cell_type": "code",
   "execution_count": null,
   "id": "131c21f6-1bd1-4047-b990-8caff522858b",
   "metadata": {},
   "outputs": [],
   "source": [
    "df"
   ]
  },
  {
   "cell_type": "code",
   "execution_count": null,
   "id": "0c2f90c6-5d0f-4815-b146-180b93c22e1a",
   "metadata": {},
   "outputs": [],
   "source": [
    "df[\"Phone_Number\"]=df[\"Phone_Number\"].str.replace('-','')"
   ]
  },
  {
   "cell_type": "code",
   "execution_count": null,
   "id": "d75d8142-d2ad-4190-af15-42f9180079a5",
   "metadata": {},
   "outputs": [],
   "source": [
    "df[\"Phone_Number\"]=df[\"Phone_Number\"].str.replace('/','')"
   ]
  },
  {
   "cell_type": "code",
   "execution_count": null,
   "id": "d178b1e2-aaaf-46d4-94c2-bc529d8ff928",
   "metadata": {},
   "outputs": [],
   "source": [
    "df[\"Phone_Number\"]=df[\"Phone_Number\"].str.replace('-','')"
   ]
  },
  {
   "cell_type": "code",
   "execution_count": null,
   "id": "c0073149-89f5-454a-be47-8b1b3df049f8",
   "metadata": {},
   "outputs": [],
   "source": [
    "df[\"Phone_Number\"]=df[\"Phone_Number\"].str.replace('|','')"
   ]
  },
  {
   "cell_type": "code",
   "execution_count": null,
   "id": "076002a3-6c74-4b7e-9cb8-9e0c4f722d2c",
   "metadata": {},
   "outputs": [],
   "source": [
    "df[\"Phone_Number\"]=df[\"Phone_Number\"].apply(lambda x: x[0:3] + '-' + x[3:6] + '-' + x[6:10] )"
   ]
  },
  {
   "cell_type": "code",
   "execution_count": null,
   "id": "43ab129b-0f8d-4493-8293-793e8072d381",
   "metadata": {},
   "outputs": [],
   "source": [
    "df.reset_index(drop='index')"
   ]
  },
  {
   "cell_type": "code",
   "execution_count": null,
   "id": "f5e80e5a-5038-4fb2-8329-98aab9e5de0d",
   "metadata": {},
   "outputs": [],
   "source": [
    "df.groupby('Phone_Number').nunique()\n"
   ]
  },
  {
   "cell_type": "code",
   "execution_count": null,
   "id": "bbbec650-5211-4f39-986b-c063daa5d313",
   "metadata": {},
   "outputs": [],
   "source": []
  }
 ],
 "metadata": {
  "kernelspec": {
   "display_name": "Python 3 (ipykernel)",
   "language": "python",
   "name": "python3"
  },
  "language_info": {
   "codemirror_mode": {
    "name": "ipython",
    "version": 3
   },
   "file_extension": ".py",
   "mimetype": "text/x-python",
   "name": "python",
   "nbconvert_exporter": "python",
   "pygments_lexer": "ipython3",
   "version": "3.12.4"
  }
 },
 "nbformat": 4,
 "nbformat_minor": 5
}
